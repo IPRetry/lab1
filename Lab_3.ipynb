{
  "nbformat": 4,
  "nbformat_minor": 0,
  "metadata": {
    "colab": {
      "provenance": [],
      "collapsed_sections": [],
      "authorship_tag": "ABX9TyP29cPYxDb0pwjpLU+IiZR5",
      "include_colab_link": true
    },
    "kernelspec": {
      "name": "python3",
      "display_name": "Python 3"
    },
    "language_info": {
      "name": "python"
    }
  },
  "cells": [
    {
      "cell_type": "markdown",
      "metadata": {
        "id": "view-in-github",
        "colab_type": "text"
      },
      "source": [
        "<a href=\"https://colab.research.google.com/github/IPRetry/lab1/blob/main/Lab_3.ipynb\" target=\"_parent\"><img src=\"https://colab.research.google.com/assets/colab-badge.svg\" alt=\"Open In Colab\"/></a>"
      ]
    },
    {
      "cell_type": "code",
      "source": [
        "def mass():\n",
        "  summ=0\n",
        "  lon=[]\n",
        "  print('Введите десять чисел, каждое на новой строке')\n",
        "  for i in range(10):\n",
        "    lon.append(int(input(f'{i+1}) ')))\n",
        "  summ=sum(lon)\n",
        "  return summ\n",
        "\n",
        "mass()"
      ],
      "metadata": {
        "id": "lj-Guszfiril",
        "colab": {
          "base_uri": "https://localhost:8080/"
        },
        "outputId": "84d06d17-0529-4bc7-efb9-653dc0160b0d"
      },
      "execution_count": null,
      "outputs": [
        {
          "name": "stdout",
          "output_type": "stream",
          "text": [
            "Введите десять чисел, каждое на новой строке\n",
            "1) 1\n",
            "2) 2\n",
            "3) 3\n",
            "4) 4\n",
            "5) 5\n",
            "6) 6\n",
            "7) 7\n",
            "8) 8\n",
            "9) 9\n",
            "10) 10\n"
          ]
        },
        {
          "output_type": "execute_result",
          "data": {
            "text/plain": [
              "55"
            ]
          },
          "metadata": {},
          "execution_count": 13
        }
      ]
    },
    {
      "cell_type": "code",
      "source": [
        "def zero(z):\n",
        "  count(0)"
      ],
      "metadata": {
        "id": "bPBjp5JmoTRE"
      },
      "execution_count": null,
      "outputs": []
    },
    {
      "cell_type": "code",
      "source": [
        "n=int(input('Введите число\\n'))\n",
        "stear=[]\n",
        "for i in range(1, n+1):\n",
        "  stear.append(i)\n",
        "  for i in range(len(stear)):\n",
        "    print(stear[i], end=' ' )\n",
        "  print('')"
      ],
      "metadata": {
        "colab": {
          "base_uri": "https://localhost:8080/"
        },
        "id": "aWexkOvdpnpX",
        "outputId": "033a0fce-f979-4eb8-93da-5097b16bfd99"
      },
      "execution_count": 17,
      "outputs": [
        {
          "output_type": "stream",
          "name": "stdout",
          "text": [
            "Введите число\n",
            "5\n",
            "1 \n",
            "1 2 \n",
            "1 2 3 \n",
            "1 2 3 4 \n",
            "1 2 3 4 5 \n"
          ]
        }
      ]
    },
    {
      "cell_type": "code",
      "source": [
        "n=int(input('Введите число\\n'))\n",
        "lin=[1]\n",
        "nil=[]\n",
        "sor=[]\n",
        "\n",
        "print(' '*(n-1) + '1')\n",
        "for i in range(2, n+1):\n",
        "  lin.append(i)\n",
        "  nil=lin.copy()\n",
        "  nil.reverse()\n",
        "  nil.pop(0)\n",
        "  sor=lin+nil\n",
        "  print((' '*(n-i)), end='')\n",
        "  for j in sor:\n",
        "    print(j, end='')\n",
        "  print('')\n",
        "print(lin)\n",
        "print(nil)\n",
        "print(sor)\n"
      ],
      "metadata": {
        "id": "S8dJtrt6syLW",
        "colab": {
          "base_uri": "https://localhost:8080/"
        },
        "outputId": "df5b3f8d-1782-4f9e-b711-56406e6d853c"
      },
      "execution_count": 18,
      "outputs": [
        {
          "output_type": "stream",
          "name": "stdout",
          "text": [
            "Введите число\n",
            "5\n",
            "    1\n",
            "   121\n",
            "  12321\n",
            " 1234321\n",
            "123454321\n",
            "[1, 2, 3, 4, 5]\n",
            "[4, 3, 2, 1]\n",
            "[1, 2, 3, 4, 5, 4, 3, 2, 1]\n"
          ]
        }
      ]
    }
  ]
}