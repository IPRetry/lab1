{
  "nbformat": 4,
  "nbformat_minor": 0,
  "metadata": {
    "colab": {
      "provenance": [],
      "authorship_tag": "ABX9TyMAh+T6n+IMy4zwFzlWe66Z",
      "include_colab_link": true
    },
    "kernelspec": {
      "name": "python3",
      "display_name": "Python 3"
    },
    "language_info": {
      "name": "python"
    }
  },
  "cells": [
    {
      "cell_type": "markdown",
      "metadata": {
        "id": "view-in-github",
        "colab_type": "text"
      },
      "source": [
        "<a href=\"https://colab.research.google.com/github/IPRetry/lab1/blob/main/Lab_2.ipynb\" target=\"_parent\"><img src=\"https://colab.research.google.com/assets/colab-badge.svg\" alt=\"Open In Colab\"/></a>"
      ]
    },
    {
      "cell_type": "code",
      "execution_count": 3,
      "metadata": {
        "colab": {
          "base_uri": "https://localhost:8080/"
        },
        "id": "zugJr6y-KTQc",
        "outputId": "3be78887-a4c6-446f-86dc-a53fcb1c61c3"
      },
      "outputs": [
        {
          "output_type": "execute_result",
          "data": {
            "text/plain": [
              "2"
            ]
          },
          "metadata": {},
          "execution_count": 3
        }
      ],
      "source": [
        "a = True\n",
        "b = False\n",
        "\n",
        "a and b\n",
        "(a and b) or b\n",
        "(a and b) or not (a and b)\n",
        "a and b or not (a or b) or b\n",
        "b and b or not a and (a or b or a) or not (a or b)\n",
        "1 << 2\n",
        "1 & 0 | 1 >> 1\n",
        "1 & 0 | 1 >> 0\n",
        "0b101 & 0b111 ^ 0b111 | 0b010"
      ]
    },
    {
      "cell_type": "code",
      "source": [
        "a=int(input('Введите первое число '))\n",
        "b=int(input('Введите второе число '))\n",
        "if a > b:\n",
        "    print(f'Число {a} больше.')\n",
        "elif a < b:\n",
        "    print(f'Число {b} больше.')\n",
        "else:\n",
        "    print('Числа равны.')"
      ],
      "metadata": {
        "id": "oPCW9WndLYud"
      },
      "execution_count": null,
      "outputs": []
    },
    {
      "cell_type": "code",
      "source": [
        "a=int(input('Введите первое число '))\n",
        "b=int(input('Введите второе число '))\n",
        "c=int(input('Введите третье число '))\n",
        "if a > b and a > c:\n",
        "    print(f'Число {a} больше.')\n",
        "elif b > a and b > c:\n",
        "    print(f'Число {b} больше.')\n",
        "elif c > a and c > b:\n",
        "    print(f'Число {c} больше.')\n",
        "elif a==b and a==c:\n",
        "  print('Числа равны.')"
      ],
      "metadata": {
        "colab": {
          "base_uri": "https://localhost:8080/"
        },
        "id": "xWZLvGcULryb",
        "outputId": "2aa532df-6101-4f03-8955-6971aa67ebf3"
      },
      "execution_count": 5,
      "outputs": [
        {
          "name": "stdout",
          "output_type": "stream",
          "text": [
            "Введите первое число 11\n",
            "Введите второе число 11\n",
            "Введите третье число 2\n"
          ]
        }
      ]
    },
    {
      "cell_type": "code",
      "source": [
        "a=int(input('Введите первое число '))\n",
        "b=int(input('Введите второе число '))\n",
        "c=int(input('Введите третье число '))\n",
        "q = {a, b, c}\n",
        "print(f'Количество уникальных чисел: {len(q)}')"
      ],
      "metadata": {
        "colab": {
          "base_uri": "https://localhost:8080/"
        },
        "id": "_cvb6w-IM0r7",
        "outputId": "00824e4f-d28f-4ea0-c182-fc5d1308549d"
      },
      "execution_count": 8,
      "outputs": [
        {
          "output_type": "stream",
          "name": "stdout",
          "text": [
            "Введите первое число 1\n",
            "Введите второе число 2\n",
            "Введите третье число 3\n",
            "Количество уникальных чисел: 3\n"
          ]
        }
      ]
    }
  ]
}