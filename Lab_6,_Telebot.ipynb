{
  "nbformat": 4,
  "nbformat_minor": 0,
  "metadata": {
    "colab": {
      "provenance": [],
      "authorship_tag": "ABX9TyNfVN8JtMUvV67a5i6WaqXH",
      "include_colab_link": true
    },
    "kernelspec": {
      "name": "python3",
      "display_name": "Python 3"
    },
    "language_info": {
      "name": "python"
    }
  },
  "cells": [
    {
      "cell_type": "markdown",
      "metadata": {
        "id": "view-in-github",
        "colab_type": "text"
      },
      "source": [
        "<a href=\"https://colab.research.google.com/github/IPRetry/lab1/blob/main/Lab_6%2C_Telebot.ipynb\" target=\"_parent\"><img src=\"https://colab.research.google.com/assets/colab-badge.svg\" alt=\"Open In Colab\"/></a>"
      ]
    },
    {
      "cell_type": "code",
      "source": [
        "!python3 --version"
      ],
      "metadata": {
        "colab": {
          "base_uri": "https://localhost:8080/"
        },
        "id": "s8Spi_MF7JOu",
        "outputId": "f44d18e2-a1b2-4a9e-9c88-aa90f8478156"
      },
      "execution_count": null,
      "outputs": [
        {
          "output_type": "stream",
          "name": "stdout",
          "text": [
            "Python 3.8.16\n"
          ]
        }
      ]
    },
    {
      "cell_type": "code",
      "source": [
        "!pip3 install pytelegrambotapi\n",
        "\n",
        "import telebot\n",
        "import requests\n",
        "\n",
        "adress = \"https://api.deepai.org/api/text-generator\"\n",
        "bot = telebot.TeleBot('5937368910:AAH0zYeO5PeMaErBJLGsbrBjtO-DHi4nz1g')\n",
        "\n",
        "@bot.message_handler(commands=['start'])\n",
        "def start(message):\n",
        "    bot.send_message(message.chat.id, 'Hi! Send me a text.')\n",
        "\n",
        "@bot.message_handler(content_types=['text'])\n",
        "def get_user_text(message):\n",
        "  user_text = message.text\n",
        "  bot.send_message(message.chat.id, f'You\\'v send {user_text}')\n",
        "  r = requests.post(\n",
        "    \"https://api.deepai.org/api/text-generator\",\n",
        "    data={'text': str(user_text)},\n",
        "    headers={'api-key': 'quickstart-QUdJIGlzIGNvbWluZy4uLi4K'}\n",
        "    )\n",
        "  print(r.json())\n",
        "  book = r.json()\n",
        "  story = book['output']\n",
        "  bot.send_message(message.chat.id, f'Pretty well. I have a nice story...\\n{story}')\n",
        "\n",
        "bot.polling(non_stop = True)"
      ],
      "metadata": {
        "colab": {
          "base_uri": "https://localhost:8080/"
        },
        "id": "NvoWmCj56fos",
        "outputId": "a9d04d6f-3a1c-4b38-c3a0-eeb23c971d7f"
      },
      "execution_count": null,
      "outputs": [
        {
          "output_type": "stream",
          "name": "stdout",
          "text": [
            "Looking in indexes: https://pypi.org/simple, https://us-python.pkg.dev/colab-wheels/public/simple/\n",
            "Requirement already satisfied: pytelegrambotapi in /usr/local/lib/python3.8/dist-packages (4.8.0)\n",
            "Requirement already satisfied: requests in /usr/local/lib/python3.8/dist-packages (from pytelegrambotapi) (2.23.0)\n",
            "Requirement already satisfied: chardet<4,>=3.0.2 in /usr/local/lib/python3.8/dist-packages (from requests->pytelegrambotapi) (3.0.4)\n",
            "Requirement already satisfied: certifi>=2017.4.17 in /usr/local/lib/python3.8/dist-packages (from requests->pytelegrambotapi) (2022.12.7)\n",
            "Requirement already satisfied: idna<3,>=2.5 in /usr/local/lib/python3.8/dist-packages (from requests->pytelegrambotapi) (2.10)\n",
            "Requirement already satisfied: urllib3!=1.25.0,!=1.25.1,<1.26,>=1.21.1 in /usr/local/lib/python3.8/dist-packages (from requests->pytelegrambotapi) (1.24.3)\n",
            "{'id': '447ff3d8-93b8-4aad-b71d-846f39e783e0', 'output': 'mother.\\n\\n\\nThe former US ambassador to Russia is currently being investigated for his involvement in the leak of emails which prompted Moscow to retaliate.\\n\\nA source in Ukraine said that his arrest was justified after a former aide to Petro Poroshenko told Kiev security services he had leaked information to The International Consortium of Investigative Journalists (ICIJ) about the plans for a US diplomatic mission in Moscow to the region which he had met in February 2016.\\n\\nSr. Sergey Ryabkov (pictured together) is the head of the Russian Foreign Ministry that has been under scrutiny over his \\'Putin\\'s Russia\\' business dealings. The former ambassador is currently being investigated for his involvement in the leak of emails which prompted Moscow to retaliate.\\n\\n\"This is probably the moment that one could say that these emails should have been leaked\", Viktor Ryabkov, the spokesman for the Russian Foreign Ministry, said.\\n\\nThe journalist, who claimed he found his \\'Russian empire\\' hidden beneath the surface during visits to Ukraine, has come under fire for his role in setting up the pro-Russian party. One article has said that there was at least one person behind the plan \\'for a US consulate\\'.\\n\\nThe pro-Donetsk Republic was in full revolt against Russian rule after independence in the late 1980s and is now ruled by the Kiev government\\n\\nRyabkov, who has been active in the pro-Russian rebels\\' fight for greater autonomy in the north of the country and across Ukraine,'}\n",
            "{'id': '9f98c94a-584c-4921-a4a2-c49dd8515d2c', 'output': \"Mother' (3rd) or 'White Rabbit' (3rd) to avoid the possibility of being labelled a 'racist'. (Note that no one ever makes a list)\\n\\nThe following words are used in 'the name' for the following races:\\n\\n- the 'white' race.\\n\\n- the 'black' race.\\n\\n- a 'black' race (also the same as in the above description)\\n\\n'The names that sound like names for white people are: 'Heil, Heil' and 'Yall', also the same as in the above description, but 'white' still can be used in these instances, because of its similarities to 'pioneering words' such as 'white' (see below), which are used to denote the minority of people. And 'whiteness', since the race they are referring to belongs to the human race. 'The whites and the negroes, which are commonly called 'the white race', represent the greatest diversity in the human race. The 'whiteness' in this respect does not include any of the names which are used for those who, because of human habit, live on the ground. It also includes many of the characteristics in which the race consists. 'Race is a physical category, and human society is a physical category based on the body.' Note that this is not a list of all the words which are used only in this context, since all the terms are\"}\n"
          ]
        }
      ]
    }
  ]
}