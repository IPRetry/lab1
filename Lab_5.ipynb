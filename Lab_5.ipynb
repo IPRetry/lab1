{
  "nbformat": 4,
  "nbformat_minor": 0,
  "metadata": {
    "colab": {
      "provenance": [],
      "authorship_tag": "ABX9TyPEOml4wiNLRJDPRryPvC+f",
      "include_colab_link": true
    },
    "kernelspec": {
      "name": "python3",
      "display_name": "Python 3"
    },
    "language_info": {
      "name": "python"
    }
  },
  "cells": [
    {
      "cell_type": "markdown",
      "metadata": {
        "id": "view-in-github",
        "colab_type": "text"
      },
      "source": [
        "<a href=\"https://colab.research.google.com/github/IPRetry/lab1/blob/main/Lab_5.ipynb\" target=\"_parent\"><img src=\"https://colab.research.google.com/assets/colab-badge.svg\" alt=\"Open In Colab\"/></a>"
      ]
    },
    {
      "cell_type": "code",
      "execution_count": null,
      "metadata": {
        "colab": {
          "base_uri": "https://localhost:8080/"
        },
        "id": "9FVV-6hHkRf1",
        "outputId": "9a29bf6a-b807-4651-9f85-23212d8e7c8c"
      },
      "outputs": [
        {
          "output_type": "stream",
          "name": "stdout",
          "text": [
            "Amount of fuel: 550; Total weight: 2750; Engine status: True\n",
            "Amount of fuel: 500; Total weight: 2700; Engine status: True\n",
            "Amount of fuel: 450; Total weight: 2650; Engine status: True\n",
            "Amount of fuel: 400; Total weight: 2600; Engine status: True\n",
            "Amount of fuel: 350; Total weight: 2550; Engine status: True\n",
            "Amount of fuel: 300; Total weight: 2500; Engine status: True\n",
            "Amount of fuel: 250; Total weight: 2450; Engine status: True\n",
            "Amount of fuel: 200; Total weight: 2400; Engine status: True\n",
            "Amount of fuel: 150; Total weight: 2350; Engine status: True\n",
            "Amount of fuel: 100; Total weight: 2300; Engine status: True\n",
            "Amount of fuel: 50; Total weight: 2250; Engine status: True\n",
            "Amount of fuel: 0; Total weight: 2200; Engine status: False\n"
          ]
        }
      ],
      "source": [
        "# №1\n",
        "\n",
        "class Rocket():\n",
        "  def __init__(self, total_weight, amount_of_fuel, engine):      \n",
        "      self.total_weight = total_weight\n",
        "      self.amount_of_fuel = amount_of_fuel\n",
        "      self.engine = engine\n",
        "  def fuel_spending(self, count):              \n",
        "      self.amount_of_fuel -= count           \n",
        "      self.total_weight -= count             \n",
        "      if self.amount_of_fuel <= 0:\n",
        "          self.amount_of_fuel = 0\n",
        "          self.engine = False\n",
        "          return False\n",
        "      elif self.amount_of_fuel > 0:\n",
        "          self.engine = True\n",
        "          return True\n",
        "  def get_fuel(self):                                       \n",
        "      return f'Amount of fuel: {self.amount_of_fuel}'\n",
        "  def get_weight(self):                                     \n",
        "      return f'Total weight: {self.total_weight}'\n",
        "  def get_engine_running(self):                                \n",
        "      return f'Engine status: {self.engine}'\n",
        "\n",
        "def main():\n",
        "    Rok1 = Rocket(2800, 600, True)\n",
        "    while Rok1.amount_of_fuel > 0:\n",
        "        Rok1.fuel_spending(50)\n",
        "        print(Rok1.get_fuel(), end='; ')\n",
        "        print(Rok1.get_weight(), end='; ')\n",
        "        print(Rok1.get_engine_running())\n",
        "main()"
      ]
    }
  ]
}