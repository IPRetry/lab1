{
  "nbformat": 4,
  "nbformat_minor": 0,
  "metadata": {
    "colab": {
      "provenance": [],
      "toc_visible": true,
      "authorship_tag": "ABX9TyNmIXG3RjgkRVvw2ixeFYj/",
      "include_colab_link": true
    },
    "kernelspec": {
      "name": "python3",
      "display_name": "Python 3"
    },
    "language_info": {
      "name": "python"
    }
  },
  "cells": [
    {
      "cell_type": "markdown",
      "metadata": {
        "id": "view-in-github",
        "colab_type": "text"
      },
      "source": [
        "<a href=\"https://colab.research.google.com/github/IPRetry/lab1/blob/main/Lab_4.ipynb\" target=\"_parent\"><img src=\"https://colab.research.google.com/assets/colab-badge.svg\" alt=\"Open In Colab\"/></a>"
      ]
    },
    {
      "cell_type": "code",
      "execution_count": null,
      "metadata": {
        "id": "zJzvYC06Ekjo",
        "colab": {
          "base_uri": "https://localhost:8080/"
        },
        "outputId": "ce16e9ea-1c25-4f1c-dbf5-29d4f555bb23"
      },
      "outputs": [
        {
          "output_type": "execute_result",
          "data": {
            "text/plain": [
              "[7, 23, 'mother', 32]"
            ]
          },
          "metadata": {},
          "execution_count": 1
        }
      ],
      "source": [
        "# №1\n",
        "checklist = [7, 9, 23, 'your', 'mother', 567, 32]\n",
        "\n",
        "def evenix(list):\n",
        "  evil = []\n",
        "  for i in range(0, len(list)+1, 2):\n",
        "    evil.append(list[i])\n",
        "  return evil\n",
        "\n",
        "evenix(checklist)"
      ]
    },
    {
      "cell_type": "code",
      "source": [
        "# №2\n",
        "checklist2 = [7, 9, 23, 667, 78, 87, 48, 567, 32, 46]\n",
        "\n",
        "def morethenprev(list):\n",
        "  morel = []\n",
        "  for i in range(len(list)):\n",
        "    if list[i] > list[i-1]:\n",
        "      morel.append(list[i])\n",
        "  return morel\n",
        "\n",
        "morethenprev(checklist2)"
      ],
      "metadata": {
        "colab": {
          "base_uri": "https://localhost:8080/"
        },
        "id": "oaAq7j63NaB3",
        "outputId": "f430afba-af90-4c25-b9e8-aa17165ce1fc"
      },
      "execution_count": null,
      "outputs": [
        {
          "output_type": "execute_result",
          "data": {
            "text/plain": [
              "[9, 23, 667, 87, 567, 46]"
            ]
          },
          "metadata": {},
          "execution_count": 8
        }
      ]
    },
    {
      "cell_type": "code",
      "source": [
        "# №3\n",
        "checklist3 = [7, 9, 23, 667, 78, 87, 48, 567, 32, 46]\n",
        "\n",
        "def changemm(list):\n",
        "  \n",
        "  maxi = max(list)\n",
        "  mini = min(list)\n",
        "  list[list.index(max(list))] = mini\n",
        "  list[list.index(min(list))] = maxi\n",
        "  return list\n",
        "\n",
        "changemm(checklist3)"
      ],
      "metadata": {
        "colab": {
          "base_uri": "https://localhost:8080/"
        },
        "id": "3-Hsr0_AQbBl",
        "outputId": "9aa9cb5b-1b0e-4b1b-adbf-0a8ab66a772c"
      },
      "execution_count": null,
      "outputs": [
        {
          "output_type": "execute_result",
          "data": {
            "text/plain": [
              "[667, 9, 23, 7, 78, 87, 48, 567, 32, 46]"
            ]
          },
          "metadata": {},
          "execution_count": 17
        }
      ]
    },
    {
      "cell_type": "code",
      "source": [
        "# №4\n",
        "import random\n",
        "checkdict = {'1': 'one', '2': 'two', '3': 'three', '4': 'four', '5': 'five'}\n",
        "key = str(random.randint(1, 5))\n",
        "\n",
        "def ret(di, ke):\n",
        "  val = di[ke]\n",
        "  return val\n",
        "\n",
        "print(key)\n",
        "ret(checkdict, key)"
      ],
      "metadata": {
        "colab": {
          "base_uri": "https://localhost:8080/",
          "height": 53
        },
        "id": "ATz3IG2hRH2n",
        "outputId": "29015b8c-d542-47ed-d69c-1708b094d84b"
      },
      "execution_count": null,
      "outputs": [
        {
          "output_type": "stream",
          "name": "stdout",
          "text": [
            "2\n"
          ]
        },
        {
          "output_type": "execute_result",
          "data": {
            "text/plain": [
              "'two'"
            ],
            "application/vnd.google.colaboratory.intrinsic+json": {
              "type": "string"
            }
          },
          "metadata": {},
          "execution_count": 12
        }
      ]
    },
    {
      "cell_type": "code",
      "source": [
        "# №5\n",
        "\"\"\" Отдельным Файлом: https://github.com/IPRetry/lab1/tree/main/Lab%204%20Task%205/figures \"\"\""
      ],
      "metadata": {
        "id": "dXh8bpdrYRZM"
      },
      "execution_count": null,
      "outputs": []
    }
  ]
}